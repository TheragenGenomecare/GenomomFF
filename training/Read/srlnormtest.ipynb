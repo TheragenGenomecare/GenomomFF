{
 "cells": [
  {
   "cell_type": "code",
   "execution_count": 1,
   "metadata": {},
   "outputs": [],
   "source": [
    "import pandas as pd"
   ]
  },
  {
   "cell_type": "code",
   "execution_count": 2,
   "metadata": {},
   "outputs": [
    {
     "data": {
      "text/html": [
       "<div>\n",
       "<style scoped>\n",
       "    .dataframe tbody tr th:only-of-type {\n",
       "        vertical-align: middle;\n",
       "    }\n",
       "\n",
       "    .dataframe tbody tr th {\n",
       "        vertical-align: top;\n",
       "    }\n",
       "\n",
       "    .dataframe thead th {\n",
       "        text-align: right;\n",
       "    }\n",
       "</style>\n",
       "<table border=\"1\" class=\"dataframe\">\n",
       "  <thead>\n",
       "    <tr style=\"text-align: right;\">\n",
       "      <th></th>\n",
       "      <th>0</th>\n",
       "      <th>1</th>\n",
       "    </tr>\n",
       "  </thead>\n",
       "  <tbody>\n",
       "    <tr>\n",
       "      <td>0</td>\n",
       "      <td>GC1601C0356_20160125-150072_IonXpress_010.Fast...</td>\n",
       "      <td>19.052706</td>\n",
       "    </tr>\n",
       "    <tr>\n",
       "      <td>1</td>\n",
       "      <td>GC1601C0359_20160125-340100_IonXpress_013.Fast...</td>\n",
       "      <td>17.772070</td>\n",
       "    </tr>\n",
       "    <tr>\n",
       "      <td>2</td>\n",
       "      <td>GC1601C0376_20160126-330733_IonXpress_018.Fast...</td>\n",
       "      <td>14.987733</td>\n",
       "    </tr>\n",
       "    <tr>\n",
       "      <td>3</td>\n",
       "      <td>GC1601C0378_20160126-300332_IonXpress_020.Fast...</td>\n",
       "      <td>17.656184</td>\n",
       "    </tr>\n",
       "  </tbody>\n",
       "</table>\n",
       "</div>"
      ],
      "text/plain": [
       "                                                   0          1\n",
       "0  GC1601C0356_20160125-150072_IonXpress_010.Fast...  19.052706\n",
       "1  GC1601C0359_20160125-340100_IonXpress_013.Fast...  17.772070\n",
       "2  GC1601C0376_20160126-330733_IonXpress_018.Fast...  14.987733\n",
       "3  GC1601C0378_20160126-300332_IonXpress_020.Fast...  17.656184"
      ]
     },
     "execution_count": 2,
     "metadata": {},
     "output_type": "execute_result"
    }
   ],
   "source": [
    "df = pd.read_csv(\"rgcbininfo_4\",header = None)\n",
    "df"
   ]
  },
  {
   "cell_type": "code",
   "execution_count": 20,
   "metadata": {},
   "outputs": [],
   "source": [
    "df_y = pd.read_csv(\"ffyrgc_4.csv\",usecols=[1])\n",
    "df_y.to_csv(\"temptrain_rgc_y.csv\",index = None , header = False)\n",
    "#Variable Y\n",
    "df_x = pd.read_csv(\"trgc_4.csv\")\n",
    "df_x= df_x.iloc[:,1:]\n",
    "df_x.to_csv(\"temptrain_rgc_x.csv\",index = None , header = False)\n",
    "pd.concat([df_y , df_x],axis =1).to_csv(\"temptrain_rgc.csv\",index =None,header=False)"
   ]
  },
  {
   "cell_type": "code",
   "execution_count": 14,
   "metadata": {},
   "outputs": [
    {
     "data": {
      "text/html": [
       "<div>\n",
       "<style scoped>\n",
       "    .dataframe tbody tr th:only-of-type {\n",
       "        vertical-align: middle;\n",
       "    }\n",
       "\n",
       "    .dataframe tbody tr th {\n",
       "        vertical-align: top;\n",
       "    }\n",
       "\n",
       "    .dataframe thead th {\n",
       "        text-align: right;\n",
       "    }\n",
       "</style>\n",
       "<table border=\"1\" class=\"dataframe\">\n",
       "  <thead>\n",
       "    <tr style=\"text-align: right;\">\n",
       "      <th></th>\n",
       "      <th>V1</th>\n",
       "    </tr>\n",
       "  </thead>\n",
       "  <tbody>\n",
       "    <tr>\n",
       "      <td>0</td>\n",
       "      <td>0.190527</td>\n",
       "    </tr>\n",
       "    <tr>\n",
       "      <td>1</td>\n",
       "      <td>0.177721</td>\n",
       "    </tr>\n",
       "    <tr>\n",
       "      <td>2</td>\n",
       "      <td>0.149877</td>\n",
       "    </tr>\n",
       "    <tr>\n",
       "      <td>3</td>\n",
       "      <td>0.176562</td>\n",
       "    </tr>\n",
       "  </tbody>\n",
       "</table>\n",
       "</div>"
      ],
      "text/plain": [
       "         V1\n",
       "0  0.190527\n",
       "1  0.177721\n",
       "2  0.149877\n",
       "3  0.176562"
      ]
     },
     "execution_count": 14,
     "metadata": {},
     "output_type": "execute_result"
    }
   ],
   "source": [
    "dfy.head()"
   ]
  },
  {
   "cell_type": "code",
   "execution_count": 3,
   "metadata": {},
   "outputs": [],
   "source": [
    "bininfo = pd.read_csv(\"GC1601C0356_20160125-150072_IonXpress_010.Fastq.sam.bam.sort.bam.rmdup.bam.sam_rgc.csv\")"
   ]
  },
  {
   "cell_type": "code",
   "execution_count": 4,
   "metadata": {},
   "outputs": [
    {
     "data": {
      "text/html": [
       "<div>\n",
       "<style scoped>\n",
       "    .dataframe tbody tr th:only-of-type {\n",
       "        vertical-align: middle;\n",
       "    }\n",
       "\n",
       "    .dataframe tbody tr th {\n",
       "        vertical-align: top;\n",
       "    }\n",
       "\n",
       "    .dataframe thead th {\n",
       "        text-align: right;\n",
       "    }\n",
       "</style>\n",
       "<table border=\"1\" class=\"dataframe\">\n",
       "  <thead>\n",
       "    <tr style=\"text-align: right;\">\n",
       "      <th></th>\n",
       "      <th>binName</th>\n",
       "      <th>CHR</th>\n",
       "      <th>end</th>\n",
       "      <th>counts</th>\n",
       "      <th>nGC</th>\n",
       "    </tr>\n",
       "  </thead>\n",
       "  <tbody>\n",
       "    <tr>\n",
       "      <td>0</td>\n",
       "      <td>chr1_0</td>\n",
       "      <td>chr1</td>\n",
       "      <td>300000</td>\n",
       "      <td>583</td>\n",
       "      <td>0.430783</td>\n",
       "    </tr>\n",
       "    <tr>\n",
       "      <td>1</td>\n",
       "      <td>chr1_1</td>\n",
       "      <td>chr1</td>\n",
       "      <td>600000</td>\n",
       "      <td>474</td>\n",
       "      <td>0.444419</td>\n",
       "    </tr>\n",
       "    <tr>\n",
       "      <td>2</td>\n",
       "      <td>chr1_2</td>\n",
       "      <td>chr1</td>\n",
       "      <td>900000</td>\n",
       "      <td>649</td>\n",
       "      <td>0.478484</td>\n",
       "    </tr>\n",
       "    <tr>\n",
       "      <td>3</td>\n",
       "      <td>chr1_3</td>\n",
       "      <td>chr1</td>\n",
       "      <td>1200000</td>\n",
       "      <td>518</td>\n",
       "      <td>0.589889</td>\n",
       "    </tr>\n",
       "    <tr>\n",
       "      <td>4</td>\n",
       "      <td>chr1_4</td>\n",
       "      <td>chr1</td>\n",
       "      <td>1500000</td>\n",
       "      <td>493</td>\n",
       "      <td>0.579131</td>\n",
       "    </tr>\n",
       "  </tbody>\n",
       "</table>\n",
       "</div>"
      ],
      "text/plain": [
       "  binName   CHR      end  counts       nGC\n",
       "0  chr1_0  chr1   300000     583  0.430783\n",
       "1  chr1_1  chr1   600000     474  0.444419\n",
       "2  chr1_2  chr1   900000     649  0.478484\n",
       "3  chr1_3  chr1  1200000     518  0.589889\n",
       "4  chr1_4  chr1  1500000     493  0.579131"
      ]
     },
     "execution_count": 4,
     "metadata": {},
     "output_type": "execute_result"
    }
   ],
   "source": [
    "bininfo.head()"
   ]
  },
  {
   "cell_type": "code",
   "execution_count": 91,
   "metadata": {},
   "outputs": [],
   "source": [
    "autosomebinsonly = (bininfo.CHR!=\"chrX\")&(bininfo.CHR!=\"chrY\")&(bininfo.CHR!=\"chr13\")&(bininfo.CHR!=\"chr18\")&(bininfo.CHR!=\"chr21\")"
   ]
  },
  {
   "cell_type": "code",
   "execution_count": 137,
   "metadata": {},
   "outputs": [
    {
     "data": {
      "text/plain": [
       "5253477"
      ]
     },
     "execution_count": 137,
     "metadata": {},
     "output_type": "execute_result"
    }
   ],
   "source": [
    "autosome_value = bininfo[autosomebinsonly].counts.sum()\n",
    "autosome_value"
   ]
  },
  {
   "cell_type": "code",
   "execution_count": 118,
   "metadata": {
    "scrolled": true
   },
   "outputs": [
    {
     "data": {
      "text/plain": [
       "1.0"
      ]
     },
     "execution_count": 118,
     "metadata": {},
     "output_type": "execute_result"
    }
   ],
   "source": [
    "#autoscaledtemp = bininfo[autosomebinsonly/autosome_value]\n",
    "autoscaledtemp = bininfo[autosomebinsonly].counts/autosome_value\n",
    "autoscaledtemp.sum()"
   ]
  },
  {
   "cell_type": "code",
   "execution_count": 145,
   "metadata": {},
   "outputs": [
    {
     "name": "stdout",
     "output_type": "stream",
     "text": [
      "1.1416345783944615\n"
     ]
    },
    {
     "data": {
      "text/plain": [
       "0    0.000111\n",
       "1    0.000090\n",
       "2    0.000124\n",
       "3    0.000099\n",
       "4    0.000094\n",
       "Name: counts, dtype: float64"
      ]
     },
     "execution_count": 145,
     "metadata": {},
     "output_type": "execute_result"
    }
   ],
   "source": [
    "allscaledtemp = (bininfo.counts/autosome_value)\n",
    "print(allscaledtemp.sum())\n",
    "allscaledtemp.head()"
   ]
  },
  {
   "cell_type": "code",
   "execution_count": 146,
   "metadata": {},
   "outputs": [],
   "source": [
    "remove = (bininfo.CHR==\"chrX\")|(bininfo.CHR==\"chrY\")|(bininfo.CHR==\"chr13\")|(bininfo.CHR==\"chr18\")|(bininfo.CHR==\"chr21\")"
   ]
  },
  {
   "cell_type": "code",
   "execution_count": 147,
   "metadata": {},
   "outputs": [
    {
     "data": {
      "text/plain": [
       "0        False\n",
       "1        False\n",
       "2        False\n",
       "3        False\n",
       "4        False\n",
       "         ...  \n",
       "10327     True\n",
       "10328     True\n",
       "10329     True\n",
       "10330     True\n",
       "10331     True\n",
       "Name: CHR, Length: 10332, dtype: bool"
      ]
     },
     "execution_count": 147,
     "metadata": {},
     "output_type": "execute_result"
    }
   ],
   "source": [
    "remove"
   ]
  },
  {
   "cell_type": "code",
   "execution_count": 148,
   "metadata": {},
   "outputs": [
    {
     "ename": "ModuleNotFoundError",
     "evalue": "No module named 'rpy2'",
     "output_type": "error",
     "traceback": [
      "\u001b[1;31m---------------------------------------------------------------------------\u001b[0m",
      "\u001b[1;31mModuleNotFoundError\u001b[0m                       Traceback (most recent call last)",
      "\u001b[1;32m<ipython-input-148-1653403ff6cf>\u001b[0m in \u001b[0;36m<module>\u001b[1;34m\u001b[0m\n\u001b[1;32m----> 1\u001b[1;33m \u001b[1;32mimport\u001b[0m \u001b[0mrpy2\u001b[0m\u001b[1;33m\u001b[0m\u001b[1;33m\u001b[0m\u001b[0m\n\u001b[0m",
      "\u001b[1;31mModuleNotFoundError\u001b[0m: No module named 'rpy2'"
     ]
    }
   ],
   "source": [
    "import rpy2"
   ]
  },
  {
   "cell_type": "code",
   "execution_count": null,
   "metadata": {},
   "outputs": [],
   "source": []
  }
 ],
 "metadata": {
  "kernelspec": {
   "display_name": "Python 3",
   "language": "python",
   "name": "python3"
  },
  "language_info": {
   "codemirror_mode": {
    "name": "ipython",
    "version": 3
   },
   "file_extension": ".py",
   "mimetype": "text/x-python",
   "name": "python",
   "nbconvert_exporter": "python",
   "pygments_lexer": "ipython3",
   "version": "3.7.4"
  }
 },
 "nbformat": 4,
 "nbformat_minor": 2
}
